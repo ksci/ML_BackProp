{
 "cells": [
  {
   "cell_type": "markdown",
   "metadata": {},
   "source": [
    "# APPENDIX A"
   ]
  },
  {
   "cell_type": "markdown",
   "metadata": {},
   "source": [
    "## Procedure\n",
    "1.  Normalize the features of the input data by using the standard (sample-minimum) / (maximum - minimum) function.  This distributes the feature values between 0 and 1\n",
    "2.  Build a custom Single Hidden Layer Neural Network (SHLNN) that includes the following options: data split into training and test groups, learningRate, momentum, epochs and random seed.\n",
    "    1.  Append the bias to the sample set data\n",
    "    2.  Create weight arrays to represent the connections between the input nodes and the hidden layer, and the hidden layer and the output\n",
    "    3.  Run the SHLNN using stochastic gradient descent (STD), updating weights through backpropagation after each training instance\n",
    "3.  Test the SHLNN on the iris dataset\n",
    "4.  Modify parameters and hyper-parameters to maximize speed and accuracy\n",
    "5.  Compare results to SKLearn MLNN\n"
   ]
  },
  {
   "cell_type": "markdown",
   "metadata": {},
   "source": [
    "## Import dataset and normalize features"
   ]
  },
  {
   "cell_type": "code",
   "execution_count": 167,
   "metadata": {},
   "outputs": [],
   "source": [
    "from sklearn import datasets\n",
    "import numpy as np\n",
    "\n",
    "def normalizeFeatureInput(samples):\n",
    "    \"\"\"\n",
    "    parameters: 2D array containing samples\n",
    "    return: array of identical shape conntaining normalized values\n",
    "    between 0 and 1\n",
    "    \"\"\"\n",
    "    arr = np.array(samples)\n",
    "    minimum = np.amin(arr.T, axis = 1)\n",
    "    maximum = np.amax(arr.T, axis = 1)\n",
    "    \n",
    "    newArr = []\n",
    "    for sample in arr:\n",
    "        newArr.append((sample - minimum) / (maximum - minimum))\n",
    "    \n",
    "    return np.array(newArr)\n",
    "\n",
    "iris = datasets.load_iris()\n",
    "samples = iris.data\n",
    "targets = iris.target\n",
    "nd = normalizeFeatureInput(samples)\n"
   ]
  },
  {
   "cell_type": "markdown",
   "metadata": {},
   "source": [
    "## NN object with .fit, .score, .printLog API"
   ]
  },
  {
   "cell_type": "code",
   "execution_count": 169,
   "metadata": {},
   "outputs": [],
   "source": [
    "class MLNN(object):\n",
    "    \n",
    "    def __init__(self, split = 0.75, learningRate = 0.1, momentum = 0.1, epochs = 500, seed = 1, shuffle = True, SGD_size = 1):\n",
    "        self.split = split\n",
    "        self.learningRate = learningRate\n",
    "        self.momentum = momentum\n",
    "        self.epochs = epochs\n",
    "        self.seed = seed\n",
    "        self.SGD_size = SGD_size\n",
    "        self.bestModel = []\n",
    "        \n",
    "    \n",
    "    def fit(self, samples, targets, h_nodes = 8):\n",
    "        self.x = np.array(samples)\n",
    "        self.y = np.zeros((samples.shape[0], np.unique(targets).shape[0]))\n",
    "        self.h_nodes = h_nodes\n",
    "        self.cost = []\n",
    "        epochCost = []\n",
    "        self.trainingScore = []\n",
    "        self.testScore = []        \n",
    "        d_ow = []\n",
    "        d_hw = []\n",
    "        rand = np.random.RandomState(self.seed)\n",
    "        #convert output classes to probabilities\n",
    "        for i in range(len(targets)):\n",
    "            self.y[i][targets[i]] = 1\n",
    "\n",
    "        #create the bias weights for each layer\n",
    "        bias = np.full((self.x.shape[0],1),1)\n",
    "        bias_hidden = 1.\n",
    "        bias_output = 1.\n",
    "\n",
    "        #create the hidden layer\n",
    "        hidden = np.zeros((1,self.h_nodes))\n",
    "\n",
    "        #create the weight arrays\n",
    "        self.inputWeights = rand.normal(loc=0.0, \n",
    "                                        scale = 0.1, \n",
    "                                        size = (self.x.shape[1], \n",
    "                                                hidden.shape[1]))\n",
    "        self.outputWeights = rand.normal(loc=0.0, \n",
    "                                         scale = 0.1, \n",
    "                                         size = (hidden.shape[1], \n",
    "                                                 np.unique(targets).shape[0]))\n",
    "\n",
    "        #shuffle indices\n",
    "        indices = np.arange(self.x.shape[0])\n",
    "        rand.shuffle(indices)\n",
    "        self.training, self.test = self.splitTrainingSet(indices)\n",
    "\n",
    "        for epoch in range(self.epochs):\n",
    "            rand.shuffle(self.training)\n",
    "\n",
    "            for i in self.training:\n",
    "                #forward propagation\n",
    "                hidden = self.x[i].dot(self.inputWeights) #+ bias_hidden\n",
    "                sighidden = self.sigmoid(hidden)\n",
    "                output = sighidden.dot(self.outputWeights) #+ bias_output\n",
    "                sigout = self.sigmoid(output)\n",
    "                yhat = self.oneHotEncode(sigout)\n",
    "\n",
    "\n",
    "                #compute delta rule on output and input weights            \n",
    "                #partial derivative of Etotal v yHat\n",
    "                d_e_yhat = sigout - self.y[i]\n",
    "\n",
    "                epochCost.append((.5*(d_e_yhat)**2).sum())\n",
    "\n",
    "                #partial derivative of yhat v y (output node output vs input)\n",
    "                d_yhat_y = self.sigmoidDerivative(sigout)\n",
    "\n",
    "                #partial derivative of y v outputweights\n",
    "                d_y_ow = sighidden\n",
    "                d_e_y = d_e_yhat * d_yhat_y\n",
    "                #output weights error, reshaping the arrays in order to perform the calculation\n",
    "                deltaOut = d_y_ow.reshape((-1,1))*(d_e_yhat * d_yhat_y).reshape((1,-1))\n",
    "                deltaHidden = (self.outputWeights.dot(d_e_y.reshape((-1,1)))*self.sigmoidDerivative(sighidden).reshape((-1,1))*self.x[i]).T\n",
    "\n",
    "\n",
    "                #change in outputweights: array where each element is how much each node weight should change ( weights connected to hidden node)\n",
    "                weightOutError = self.learningRate*deltaOut\n",
    "                weightInError = self.learningRate*deltaHidden\n",
    "\n",
    "                #track error updates for momentum\n",
    "                d_ow.append(weightOutError)\n",
    "                d_hw.append(weightInError)\n",
    "\n",
    "                #update output weights\n",
    "                self.outputWeights -= weightOutError + self.momentum*d_ow[-1]\n",
    "                self.inputWeights -= weightInError + self.momentum*d_hw[-1]\n",
    "            self.cost.append(sum(epochCost))\n",
    "            epochCost.clear()\n",
    "            self.internalScore()\n",
    "            if not self.progress():\n",
    "                return self\n",
    "        return self\n",
    "    \n",
    "    def splitTrainingSet(self, inputvalues):\n",
    "        \"\"\"\n",
    "        Assumes the data is already randomized\n",
    "        returns two lists of indices\"\"\"\n",
    "        length =  inputvalues.shape[0]\n",
    "        train = int(length*self.split)\n",
    "        return (inputvalues[:train], inputvalues[train:])\n",
    "    \n",
    "    def oneHotEncode(self, outputs):\n",
    "        \"\"\"\n",
    "        parameter: output array (1D)\n",
    "        Return: one hot encoded output based on max value. \n",
    "        e.g [.2, .4, .6] would be encoded as [0, 0, 1]\n",
    "        \"\"\"\n",
    "        i = np.argmax(outputs)\n",
    "        new = np.zeros(outputs.shape[0])\n",
    "        new[i] = 1\n",
    "        return new\n",
    "    \n",
    "    def sigmoid(self, inputLayer):\n",
    "        \"\"\"\n",
    "        parameter: list of values\n",
    "        return: sigmoid(list) as numpy array\n",
    "        \"\"\"\n",
    "        return np.array([1 / (1 + np.exp(-item)) for item in inputLayer])\n",
    "\n",
    "    def sigmoidDerivative(self, sigmoid):\n",
    "        \"\"\"\n",
    "        parameter: list of sigmoid activation values\n",
    "        return : numpy array of sigmoid derivative\"\"\"\n",
    "        return np.array([ item * (1 - item) for item in sigmoid])\n",
    "    \n",
    "    def internalScore(self):\n",
    "        correct = 0\n",
    "        for i in self.training:\n",
    "            hidden = self.x[i].dot(self.inputWeights) #+ bias_hidden\n",
    "            sighidden = self.sigmoid(hidden)\n",
    "            output = sighidden.dot(self.outputWeights) #+ bias_output\n",
    "            sigout = self.sigmoid(output)\n",
    "            yhat = self.oneHotEncode(sigout)\n",
    "            if np.array_equal(yhat, self.y[i]):\n",
    "                correct = correct + 1 \n",
    "        self.trainingScore.append(correct / float(self.training.shape[0]))\n",
    "        \n",
    "        correct = 0\n",
    "        for i in self.test:\n",
    "            hidden = self.x[i].dot(self.inputWeights) #+ bias_hidden\n",
    "            sighidden = self.sigmoid(hidden)\n",
    "            output = sighidden.dot(self.outputWeights) #+ bias_output\n",
    "            sigout = self.sigmoid(output)\n",
    "            yhat = self.oneHotEncode(sigout)\n",
    "            if np.array_equal(yhat, self.y[i]):\n",
    "                correct = correct + 1\n",
    "        self.testScore.append(correct / float(self.test.shape[0]))\n",
    "        return \n",
    "    \n",
    "    def score(self, X, y):\n",
    "        correct = 0\n",
    "        out = np.zeros((X.shape[0],np.argmax(y)+1))\n",
    "        for i in range(len(y)):\n",
    "            out[i][y[i]] = 1\n",
    "        for i in range(len(X)):\n",
    "            hidden = X[i].dot(self.inputWeights) #+ bias_hidden\n",
    "            sighidden = self.sigmoid(hidden)\n",
    "            output = sighidden.dot(self.outputWeights) #+ bias_output\n",
    "            sigout = self.sigmoid(output)\n",
    "            yhat = self.oneHotEncode(sigout)\n",
    "            if np.array_equal(yhat, out[i]):\n",
    "                correct = correct + 1 \n",
    "        return correct / float(X.shape[0])\n",
    "        \n",
    "    def progress(self):\n",
    "        #checks the progress of model creation.  Returns true if progress is being made and false if the creation process should end\n",
    "        #if best score, save the model\n",
    "        if self.testScore[-1] == np.amax(self.testScore):\n",
    "            self.storeModel()\n",
    "            if self.testScore[-1] == 1.0:\n",
    "                return False\n",
    "            return True\n",
    "        if len(self.testScore) >= int(0.2*self.epochs):\n",
    "            #less than average of last ten - did we already max out, and now decreasing? \n",
    "            #Or is this just a local minimum that must be pushed through? Restore best model and quit\n",
    "            if np.average(self.cost[len(self.cost)-5:]) < self.cost[-1]:\n",
    "                self.restoreModel()\n",
    "                return False\n",
    "            #greater than average of last ten - continue forward, we're making progress, do nothing\n",
    "            elif np.average(self.cost[len(self.cost)-5:]) > self.cost[-1]:\n",
    "                return True\n",
    "            #testscore is perfect\n",
    "\n",
    "        else:\n",
    "            return True\n",
    "                              \n",
    "    def storeModel(self):\n",
    "        #store the current model to the best model list\n",
    "        self.bestModel.append([self.inputWeights, self.outputWeights])\n",
    "        \n",
    "    def restoreModel(self):\n",
    "        #restore the best model to the current model\n",
    "        self.inputWeights = self.bestModel[-1][0]\n",
    "        self.outputWeights = self.bestModel[-1][1]\n",
    "    \n",
    "    def printLog(self):\n",
    "        from datetime import datetime\n",
    "    \n",
    "        log = open(f\"log_LR_{self.learningRate}_Epoch_{self.epochs}_Momentum_{self.momentum}_Hidden_{self.h_nodes}.txt\",\"w\")\n",
    "        log.write(f'Paramters: Learning Rate: {self.learningRate}  Epochs: {self.epochs}  Momentum: {self.momentum}  Training Split {self.split} Hidden: {self.h_nodes}\\n')\n",
    "        log.write(f'{datetime.now()}\\n')    \n",
    "        log.write(\"Training Results:\\n\")\n",
    "        correct = 0\n",
    "        for i in self.training:\n",
    "            hidden = self.x[i].dot(self.inputWeights) #+ bias_hidden\n",
    "            sighidden = self.sigmoid(hidden)\n",
    "            output = sighidden.dot(self.outputWeights) #+ bias_output\n",
    "            sigout = self.sigmoid(output)\n",
    "            yhat = self.oneHotEncode(sigout)\n",
    "            result = False\n",
    "            if np.array_equal(yhat, self.y[i]):\n",
    "                result = True\n",
    "                correct = correct + 1\n",
    "            log.write(f'{i} Predicted:{self.oneHotEncode(sigout)} -- {result}\\n')\n",
    "        log.write(f'Percentage: {correct / float(self.training.shape[0])}\\n')\n",
    "        log.write(f'Correct: {correct}, Total: {self.training.shape[0]}\\n\\n')\n",
    "        \n",
    "        log.write(\"TEST Results:\\n\")\n",
    "        correct = 0\n",
    "        for i in self.test:\n",
    "            hidden = self.x[i].dot(self.inputWeights) #+ bias_hidden\n",
    "            sighidden = self.sigmoid(hidden)\n",
    "            output = sighidden.dot(self.outputWeights) #+ bias_output\n",
    "            sigout = self.sigmoid(output)\n",
    "            yhat = self.oneHotEncode(sigout)\n",
    "            result = False\n",
    "            if np.array_equal(yhat, self.y[i]):\n",
    "                result = True\n",
    "                correct = correct + 1\n",
    "            log.write(f'{i} Predicted:{self.oneHotEncode(sigout)} -- {result}\\n')\n",
    "        log.write(f'Percentage: {correct / float(self.test.shape[0])}\\n')\n",
    "        log.write(f'Correct: {correct}, Total: {self.test.shape[0]}\\n\\n')\n",
    "        \n",
    "        log.write(\"Complete Set Results:\\n\")\n",
    "        correct = 0\n",
    "        for i in range(self.x.shape[0]):\n",
    "            hidden = self.x[i].dot(self.inputWeights) #+ bias_hidden\n",
    "            sighidden = self.sigmoid(hidden)\n",
    "            output = sighidden.dot(self.outputWeights) #+ bias_output\n",
    "            sigout = self.sigmoid(output)\n",
    "            yhat = self.oneHotEncode(sigout)\n",
    "            result = False\n",
    "            if np.array_equal(yhat, self.y[i]):\n",
    "                result = True\n",
    "                correct = correct + 1\n",
    "            log.write(f'{i} Predicted:{self.oneHotEncode(sigout)} -- {result}\\n')\n",
    "        log.write(f'Percentage: {correct / float(self.x.shape[0])}\\n')\n",
    "        log.write(f'Correct: {correct}, Total: {self.x.shape[0]}\\n\\n')\n",
    "            \n",
    "        \n",
    "        log.write(f'Cost:{self.cost[-1]}\\n')\n",
    "        "
   ]
  },
  {
   "cell_type": "markdown",
   "metadata": {},
   "source": [
    "## Testing Model Creation"
   ]
  },
  {
   "cell_type": "code",
   "execution_count": 174,
   "metadata": {},
   "outputs": [
    {
     "name": "stdout",
     "output_type": "stream",
     "text": [
      "epoch: 0, test score: 0.2894736842105263\n",
      "epoch: 1, test score: 0.2631578947368421\n",
      "epoch: 2, test score: 0.7631578947368421\n",
      "epoch: 3, test score: 0.5526315789473685\n",
      "epoch: 4, test score: 0.9736842105263158\n",
      "epoch: 5, test score: 0.9736842105263158\n",
      "epoch: 6, test score: 0.9736842105263158\n",
      "epoch: 7, test score: 0.7105263157894737\n",
      "epoch: 8, test score: 0.5526315789473685\n",
      "epoch: 9, test score: 0.9736842105263158\n",
      "epoch: 10, test score: 0.7368421052631579\n",
      "epoch: 11, test score: 0.9473684210526315\n",
      "epoch: 12, test score: 0.9210526315789473\n",
      "epoch: 13, test score: 0.6842105263157895\n",
      "epoch: 14, test score: 0.9736842105263158\n",
      "epoch: 15, test score: 0.9473684210526315\n",
      "epoch: 16, test score: 0.9473684210526315\n",
      "epoch: 17, test score: 0.9473684210526315\n",
      "epoch: 18, test score: 0.9473684210526315\n",
      "epoch: 19, test score: 0.9473684210526315\n",
      "epoch: 20, test score: 1.0\n"
     ]
    }
   ],
   "source": [
    "NN = MLNN(learningRate = 0.6, momentum = 0.1, epochs = 100, seed=1)\n",
    "NN.fit(nd, targets, h_nodes = 8)\n",
    "#NN.printLog()\n",
    "for i in range(len(NN.testScore)):\n",
    "    print(f'epoch: {i}, test score: {NN.testScore[i]}')\n"
   ]
  },
  {
   "cell_type": "markdown",
   "metadata": {},
   "source": [
    "## Running on new test set"
   ]
  },
  {
   "cell_type": "code",
   "execution_count": 176,
   "metadata": {},
   "outputs": [
    {
     "name": "stdout",
     "output_type": "stream",
     "text": [
      "0.9736842105263158\n"
     ]
    }
   ],
   "source": [
    "print(NN.score(X_test,y_test))\n"
   ]
  },
  {
   "cell_type": "markdown",
   "metadata": {},
   "source": [
    "## Figure creation example"
   ]
  },
  {
   "cell_type": "code",
   "execution_count": 177,
   "metadata": {},
   "outputs": [
    {
     "data": {
      "image/png": "[encoded data removed]",
      "text/plain": [
       "<Figure size 2160x576 with 1 Axes>"
      ]
     },
     "metadata": {
      "needs_background": "light"
     },
     "output_type": "display_data"
    }
   ],
   "source": [
    "import matplotlib.pyplot as plt\n",
    "from scipy.ndimage.filters import gaussian_filter1d\n",
    "\n",
    "train_smoothed = gaussian_filter1d(NN.trainingScore, sigma=1)\n",
    "test_smoothed = gaussian_filter1d(NN.testScore, sigma=1)\n",
    "plt.figure(figsize=(30,8))\n",
    "#plt.plot(NN.trainingScore, label = \"Training\")\n",
    "#plt.plot(NN.testScore, label = \"Test\")\n",
    "plt.plot(train_smoothed, label = \"Training\")\n",
    "plt.plot(test_smoothed, label = \"Test\")\n",
    "\n",
    "plt.xlabel(\"Epochs\")\n",
    "plt.ylabel(\"Score\")\n",
    "plt.title(\"Progression of Training set and Test set score\")\n",
    "plt.legend(loc='lower right')\n",
    "plt.show()"
   ]
  },
  {
   "cell_type": "markdown",
   "metadata": {},
   "source": [
    "## Log Creation"
   ]
  },
  {
   "cell_type": "code",
   "execution_count": 178,
   "metadata": {},
   "outputs": [],
   "source": [
    "#use this to create output logs\n",
    "nodes = []\n",
    "sse = []\n",
    "i = 2\n",
    "for x in range(i,129, i*2):\n",
    "    TestNN = MLNN(learningRate = 0.6, epochs = 500, momentum = 0.1)\n",
    "    TestNN.fit(nd,targets, h_nodes = x)\n",
    "    nodes.append(x)\n",
    "    sse.append(TestNN.cost)\n",
    "    TestNN.printLog()\n",
    "\n"
   ]
  },
  {
   "cell_type": "markdown",
   "metadata": {},
   "source": [
    "## Compare to SKLearn"
   ]
  },
  {
   "cell_type": "code",
   "execution_count": null,
   "metadata": {},
   "outputs": [],
   "source": [
    "from sklearn.neural_network import MLPClassifier\n",
    "from sklearn.model_selection import train_test_split\n",
    "X_train, X_test, y_train, y_test = train_test_split(\n",
    "    nd, targets, test_size=0.25, random_state=42)\n",
    "skNN = MLPClassifier(activation = \"logistic\", \n",
    "                     solver='sgd',\n",
    "                     learning_rate_init = 0.1,\n",
    "                     learning_rate = \"constant\",\n",
    "                     momentum = 0.1,\n",
    "                     max_iter = 10000\n",
    "                    )\n",
    "skNN.fit(X_train, y_train)"
   ]
  },
  {
   "cell_type": "code",
   "execution_count": 164,
   "metadata": {},
   "outputs": [
    {
     "name": "stdout",
     "output_type": "stream",
     "text": [
      "skLearn Training Score: 0.9553571428571429\n",
      "skLearn Test Score: 1.0\n"
     ]
    }
   ],
   "source": [
    "print(f'skLearn Training Score: {skNN.score(X_train, y_train)}')\n",
    "print(f'skLearn Test Score: {skNN.score(X_test, y_test)}')"
   ]
  }
 ],
 "metadata": {
  "kernelspec": {
   "display_name": "Python 3",
   "language": "python",
   "name": "python3"
  },
  "language_info": {
   "codemirror_mode": {
    "name": "ipython",
    "version": 3
   },
   "file_extension": ".py",
   "mimetype": "text/x-python",
   "name": "python",
   "nbconvert_exporter": "python",
   "pygments_lexer": "ipython3",
   "version": "3.7.4"
  }
 },
 "nbformat": 4,
 "nbformat_minor": 4
}
